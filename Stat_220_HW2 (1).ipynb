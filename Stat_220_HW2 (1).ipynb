{
  "cells": [
    {
      "cell_type": "markdown",
      "metadata": {
        "id": "i_wf0W4QFoYS"
      },
      "source": [
        "[![Open in Colab](https://colab.research.google.com/assets/colab-badge.svg)](https://colab.research.google.com/github/drbob-richardson/stat220/blob/main/Assignments/Stat_220_HW2.ipynb)"
      ]
    },
    {
      "cell_type": "markdown",
      "metadata": {
        "id": "p0Jeg70FvG6D"
      },
      "source": [
        "**Problem 1** A baseball player has a batting average of .240 against right handed pitchers and .375 against left handed pitchers. A batting average can be thought of as the probability they will get a hit."
      ]
    },
    {
      "cell_type": "markdown",
      "metadata": {
        "id": "mjW2p9LywoQ_"
      },
      "source": [
        "Part a. What is the probability the baseball player gets 3 out of 4 hits against a right handed pitcher?"
      ]
    },
    {
      "cell_type": "code",
      "execution_count": 1,
      "metadata": {
        "id": "8-JI8OPxwu4r",
        "colab": {
          "base_uri": "https://localhost:8080/"
        },
        "outputId": "f31a1a57-862e-4dfb-e14d-7353fcd059b3"
      },
      "outputs": [
        {
          "output_type": "stream",
          "name": "stdout",
          "text": [
            "The probability of getting 3 out of 4 hits against a right-handed pitcher is: 0.04202495999999999\n"
          ]
        }
      ],
      "source": [
        "import math\n",
        "\n",
        "batting_average_right_handed = 0.24\n",
        "\n",
        "total_at_bats = 4\n",
        "\n",
        "hits_wanted = 3\n",
        "\n",
        "def calculate_probability(n, k, p):\n",
        "    binomial_coefficient = math.comb(n, k)\n",
        "    probability = binomial_coefficient * (p ** k) * ((1 - p) ** (n - k))\n",
        "    return probability\n",
        "\n",
        "probability = calculate_probability(total_at_bats, hits_wanted, batting_average_right_handed)\n",
        "\n",
        "print(f\"The probability of getting 3 out of 4 hits against a right-handed pitcher is: {probability}\")"
      ]
    },
    {
      "cell_type": "markdown",
      "metadata": {
        "id": "iuq4VdwYwvO9"
      },
      "source": [
        "Part b. What is the probability the baseball gets 3 out of 4 hits against a left handed pitcher."
      ]
    },
    {
      "cell_type": "code",
      "execution_count": 2,
      "metadata": {
        "id": "Us2ZnQSlw0x_",
        "colab": {
          "base_uri": "https://localhost:8080/"
        },
        "outputId": "79bc669e-d14e-4372-88f3-105574f7c00b"
      },
      "outputs": [
        {
          "output_type": "stream",
          "name": "stdout",
          "text": [
            "The probability of getting 3 out of 4 hits against a left-handed pitcher is: 0.1318359375\n"
          ]
        }
      ],
      "source": [
        "batting_average_left_handed = 0.375\n",
        "\n",
        "total_at_bats = 4\n",
        "\n",
        "hits_wanted = 3\n",
        "probability_l= calculate_probability(total_at_bats, hits_wanted, batting_average_left_handed)\n",
        "print(f\"The probability of getting 3 out of 4 hits against a left-handed pitcher is: {probability_l}\")"
      ]
    },
    {
      "cell_type": "markdown",
      "metadata": {
        "id": "QXJfKQHBxgR6"
      },
      "source": [
        "Part c. The baseball player gets 3 out of 4 hits against a randomly chosen pitcher. Based on these results, what would you assume about what hand the pitcher uses?"
      ]
    },
    {
      "cell_type": "markdown",
      "metadata": {
        "id": "VeEcIBCxxqPn"
      },
      "source": [
        "Since the sample size is only 4 hits. It's important to consider that a small number of at-bats may not provide a complete picture of a pitcher's true ability. A larger sample size of at-bats would be more accurative."
      ]
    },
    {
      "cell_type": "markdown",
      "metadata": {
        "id": "SDGIExslxGCv"
      },
      "source": [
        "Part d. Assume that the pitcher is randomly chosen from the team where 80% of the pitchers are right handed. Use Bayes rule to determine the probability the pitcher is right handed given that the batter hits 3 out of 4 pitches."
      ]
    },
    {
      "cell_type": "code",
      "execution_count": 3,
      "metadata": {
        "id": "n76xVOIaxsoX",
        "colab": {
          "base_uri": "https://localhost:8080/"
        },
        "outputId": "6c4693a3-08c8-471f-f19b-e4d1e7252670"
      },
      "outputs": [
        {
          "output_type": "stream",
          "name": "stdout",
          "text": [
            "0.5604527789286492\n"
          ]
        }
      ],
      "source": [
        "prior_probability_right_handed = 0.8\n",
        "prior_probability_left_handed = 1 - prior_probability_right_handed\n",
        "\n",
        "likelihood_right_handed = (0.24 ** 3) * (0.76 ** 1)\n",
        "likelihood_left_handed = (0.375 ** 3) * (0.625 ** 1)\n",
        "\n",
        "evidence = (prior_probability_right_handed * likelihood_right_handed) + (prior_probability_left_handed * likelihood_left_handed)\n",
        "\n",
        "posterior_probability_right_handed = (prior_probability_right_handed * likelihood_right_handed) / evidence\n",
        "\n",
        "print(posterior_probability_right_handed)"
      ]
    },
    {
      "cell_type": "markdown",
      "metadata": {
        "id": "u6z8NiewxxoP"
      },
      "source": [
        "**Problem 2** The probability of rain in Arizona on a randomly chosen day of the year is 5%. A researcher started a study on rain in Arizona and noted 3 days in a row of rain. The researcher calculated the probability of this in the following way:\n",
        "\n",
        "Pr(3 days of rain) = Pr(1 day of rain)^3 = .05^3 = .000125\n",
        "\n",
        "The researcher was so excited about finding such a rare event that he published his results. You write a scathing review of his publication stating he made a poor assumption about rain. What did the researcher get wrong?\n"
      ]
    },
    {
      "cell_type": "markdown",
      "metadata": {
        "id": "JldplVYsUYyA"
      },
      "source": [
        "The probability of three consecutive rainy days is not equal to the probability of a single rainy day raised to the third power. His assumption is incorrect because it overlooks the fact that weather events are not independent. Calculate the probability of multiple events occurring together by multiplying the probabilities of each individual event only applys on independent event."
      ]
    },
    {
      "cell_type": "markdown",
      "metadata": {
        "id": "xOmMCaJQzUAd"
      },
      "source": [
        "**Problem 3** A stock trader is examining stocks. Let event A be the event that Stock A falls. Let event B be the event that Stock B falls. Assume the following.\n",
        "\n",
        "*   Pr(A) = 0.4\n",
        "*   Pr(B) = 0.25\n",
        "*   Pr(A and B) = 0.15\n"
      ]
    },
    {
      "cell_type": "markdown",
      "metadata": {
        "id": "cXuzb3Kn2mIh"
      },
      "source": [
        "Part a. What is the probability that either events A or B happen?"
      ]
    },
    {
      "cell_type": "code",
      "execution_count": 4,
      "metadata": {
        "id": "gdTGwVnR2qaZ",
        "colab": {
          "base_uri": "https://localhost:8080/"
        },
        "outputId": "7ba89f69-f782-4528-96b4-36c260dd6d15"
      },
      "outputs": [
        {
          "output_type": "stream",
          "name": "stdout",
          "text": [
            "The probability that both events A and B both happen is: 0.125\n"
          ]
        }
      ],
      "source": [
        "P_A = 0.4\n",
        "P_B = 0.25\n",
        "P_A_given_B = 0.5\n",
        "\n",
        "\n",
        "P_A_and_B = P_A_given_B * P_B\n",
        "\n",
        "\n",
        "print(f\"The probability that both events A and B both happen is: {P_A_and_B}\")"
      ]
    },
    {
      "cell_type": "markdown",
      "metadata": {
        "id": "mmS34xQ82qyK"
      },
      "source": [
        "Part b. From this, can you make statement as to whether or not events A and B are mutually exclusive?"
      ]
    },
    {
      "cell_type": "markdown",
      "metadata": {
        "id": "JS6WvYY9FoYX"
      },
      "source": [
        "Two events are mutually exclusive if they cannot happen at the same time, meaning  P(A and B) = 0 .\n",
        "\n",
        "In this case,  P(A and B) = 0.125 , which means both events can happen simultaneously. Therefore, events A and B are not mutually exclusive."
      ]
    },
    {
      "cell_type": "markdown",
      "metadata": {
        "id": "Ja_sSIniFoYX"
      },
      "source": [
        "Part c. What can you say about if events A and B are independent?"
      ]
    },
    {
      "cell_type": "markdown",
      "metadata": {
        "id": "ahxgQdoPFoYX"
      },
      "source": [
        "If they are independent, P A and B = P A * P B\n",
        "PA_and_B = 0.125\n",
        "PA * PB = 0.1\n"
      ]
    },
    {
      "cell_type": "markdown",
      "metadata": {
        "id": "Uhv41ow1swdd"
      },
      "source": [
        "**Problem 4** Each time a person shops at a grocery store, the event of catching a cold or some other virus from another shopper is independent from visit to visit and has a constant probability over the year, equal to 0.01."
      ]
    },
    {
      "cell_type": "markdown",
      "metadata": {
        "id": "3cN1ISlms2X-"
      },
      "source": [
        "Part a. In 100 trips to this store over the course of a year, the probability of catching a virus while shopping there is 100(0.01) = 1.0. What is wrong with this reasoning?"
      ]
    },
    {
      "cell_type": "markdown",
      "metadata": {
        "id": "5P6uZCAss74u"
      },
      "source": [
        "it assumes that the probability of catching a virus on any one trip is simply additive across multiple trips, which is not how probabilities work for independent events."
      ]
    },
    {
      "cell_type": "markdown",
      "metadata": {
        "id": "xkfLkFiys8lO"
      },
      "source": [
        "Part b. Find the correct probability in (a)."
      ]
    },
    {
      "cell_type": "code",
      "execution_count": null,
      "metadata": {
        "id": "lCdV9U4ZWECf"
      },
      "outputs": [],
      "source": [
        "probability_single_trip = 0.01\n",
        "\n",
        "probability_not_single_trip = 1 - probability_single_trip\n",
        "\n",
        "probability_not_100_trips = (probability_not_single_trip) ** 100\n",
        "\n",
        "probability_at_least_once = 1 - probability_not_100_trips\n",
        "\n",
        "print(f\"The correct probability of catching a virus at least once in 100 trips is: {probability_at_least_once}\")\n"
      ]
    },
    {
      "cell_type": "markdown",
      "metadata": {
        "id": "1nUUpZ8qSW3_"
      },
      "source": [
        "Part c. Determine the expected number of days someone would go to a grocery store before they catch a cold or some other virus."
      ]
    },
    {
      "cell_type": "code",
      "source": [
        "p_virus = 0.01\n",
        "\n",
        "expected_days = 1 / p_virus\n",
        "\n",
        "print(f\"The expected number of days before catching a virus is: {expected_days}\")"
      ],
      "metadata": {
        "id": "g7ip7j717Cwb"
      },
      "execution_count": null,
      "outputs": []
    },
    {
      "cell_type": "markdown",
      "metadata": {
        "id": "4QE2cv4juKMj"
      },
      "source": [
        "**Problem 5** A quiz has twelve multiple-choice questions, with four possible answers for each. A student who is completely unprepared randomly guesses the answer for each question. Let Y denote the number of correct responses"
      ]
    },
    {
      "cell_type": "markdown",
      "metadata": {
        "id": "6r4s6IlmFoYY"
      },
      "source": [
        "Part a. What is the name of the distribution that can be used to determine the number of questionsd guessed correctly? What are the parameters of this distribution?"
      ]
    },
    {
      "cell_type": "markdown",
      "metadata": {
        "id": "GUAchuEkFoYY"
      },
      "source": [
        "Name of the distribution: Binomial distribution\n",
        "Parameters:\n",
        "n=12 total number of questions\n",
        "p=1/4 the probability of guessing a question correctly since there are 4 possible answers"
      ]
    },
    {
      "cell_type": "markdown",
      "metadata": {
        "id": "tWDxpF7yuZcR"
      },
      "source": [
        "Part b. Find the probability that the students gets (i) all 12, (ii) none of the questions correct."
      ]
    },
    {
      "cell_type": "code",
      "execution_count": null,
      "metadata": {
        "id": "BIiWMzxRtpFm"
      },
      "outputs": [],
      "source": [
        "from math import comb\n",
        "\n",
        "n = 12\n",
        "\n",
        "p = 1 / 4\n",
        "\n",
        "probability_all_correct = (p ** n)\n",
        "\n",
        "probability_none_correct = ((1 - p) ** n)\n",
        "\n",
        "# Print the results\n",
        "print(f\"(i) Probability of getting all 12 questions correct: {probability_all_correct:.10f}\")\n",
        "print(f\"(ii) Probability of getting none of the questions correct: {probability_none_correct:.10f}\")\n"
      ]
    },
    {
      "cell_type": "markdown",
      "metadata": {
        "id": "AFos6-iTFoYY"
      },
      "source": [
        "Part c. What is the expected value and variance of the number of questions guessed correctly?"
      ]
    },
    {
      "cell_type": "code",
      "execution_count": null,
      "metadata": {
        "id": "rwcgR-CPFoYY"
      },
      "outputs": [],
      "source": [
        "mean_Y = n * p\n",
        "\n",
        "std_dev_Y = (n * p * (1 - p)) ** 0.5\n",
        "\n",
        "print(f\"Mean (expected value) of Y: {mean_Y:.2f}\")\n",
        "print(f\"Standard deviation of Y: {std_dev_Y:.2f}\")"
      ]
    }
  ],
  "metadata": {
    "colab": {
      "provenance": []
    },
    "kernelspec": {
      "display_name": "Python 3",
      "name": "python3"
    },
    "language_info": {
      "name": "python"
    }
  },
  "nbformat": 4,
  "nbformat_minor": 0
}